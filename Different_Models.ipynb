{
 "cells": [
  {
   "cell_type": "markdown",
   "metadata": {},
   "source": [
    "<p style=\"color: rgb(0, 255, 0);\"><b>Import necessary libraries. <i>HTML, Pandas, Itertools, </i> and <i>Random</i> will be used later in the file</b></p>"
   ]
  },
  {
   "cell_type": "code",
   "execution_count": 14,
   "metadata": {},
   "outputs": [],
   "source": [
    "from IPython.display import display, Markdown, HTML\n",
    "from class_version import OpenAIClient\n",
    "import pandas as pd\n",
    "import itertools\n",
    "import random"
   ]
  },
  {
   "cell_type": "markdown",
   "metadata": {},
   "source": [
    "<p style=\"color: rgb(0, 255, 0); width: 90%;\"><b>\n",
    "Create lists of different types of models, roles, temp values, and top_p values that can be used for the ai instance.\n",
    "</b></p>"
   ]
  },
  {
   "cell_type": "code",
   "execution_count": 15,
   "metadata": {},
   "outputs": [],
   "source": [
    "models = ['gpt-3.5-turbo', 'gpt-4o', 'gpt-4o-mini']\n",
    "roles = ['assistant', 'professor', 'parent', 'disinterested neighbor', 'friend', 'boss', 'therapist', \n",
    "         'tech guru', 'celebrity', 'historian','tree', 'shark']\n",
    "temperature_values = [0.0, 0.2,0.4, 0.6, 0.8, 1.0, 1.3]\n",
    "top_p_values = [0.0, 0.2,0.4, 0.6, 0.8, 1.0]"
   ]
  },
  {
   "cell_type": "code",
   "execution_count": 16,
   "metadata": {},
   "outputs": [
    {
     "data": {
      "text/html": [
       "<h2 style='color: rgb(0, 255, 0);'><b>These are the models chosen to be tested:</b></h2>"
      ],
      "text/plain": [
       "<IPython.core.display.HTML object>"
      ]
     },
     "metadata": {},
     "output_type": "display_data"
    },
    {
     "data": {
      "text/html": [
       "<div>\n",
       "<style scoped>\n",
       "    .dataframe tbody tr th:only-of-type {\n",
       "        vertical-align: middle;\n",
       "    }\n",
       "\n",
       "    .dataframe tbody tr th {\n",
       "        vertical-align: top;\n",
       "    }\n",
       "\n",
       "    .dataframe thead th {\n",
       "        text-align: right;\n",
       "    }\n",
       "</style>\n",
       "<table border=\"1\" class=\"dataframe\">\n",
       "  <thead>\n",
       "    <tr style=\"text-align: right;\">\n",
       "      <th></th>\n",
       "      <th>Model name</th>\n",
       "      <th>Role</th>\n",
       "      <th>Temperature</th>\n",
       "      <th>Top P</th>\n",
       "    </tr>\n",
       "  </thead>\n",
       "  <tbody>\n",
       "    <tr>\n",
       "      <th>0</th>\n",
       "      <td>gpt-4o</td>\n",
       "      <td>parent</td>\n",
       "      <td>0.6</td>\n",
       "      <td>1.0</td>\n",
       "    </tr>\n",
       "    <tr>\n",
       "      <th>1</th>\n",
       "      <td>gpt-4o-mini</td>\n",
       "      <td>therapist</td>\n",
       "      <td>0.6</td>\n",
       "      <td>1.0</td>\n",
       "    </tr>\n",
       "    <tr>\n",
       "      <th>2</th>\n",
       "      <td>gpt-4o</td>\n",
       "      <td>professor</td>\n",
       "      <td>1.3</td>\n",
       "      <td>0.6</td>\n",
       "    </tr>\n",
       "    <tr>\n",
       "      <th>3</th>\n",
       "      <td>gpt-3.5-turbo</td>\n",
       "      <td>therapist</td>\n",
       "      <td>1.3</td>\n",
       "      <td>0.6</td>\n",
       "    </tr>\n",
       "    <tr>\n",
       "      <th>4</th>\n",
       "      <td>gpt-4o-mini</td>\n",
       "      <td>assistant</td>\n",
       "      <td>1.3</td>\n",
       "      <td>0.4</td>\n",
       "    </tr>\n",
       "    <tr>\n",
       "      <th>5</th>\n",
       "      <td>gpt-3.5-turbo</td>\n",
       "      <td>disinterested neighbor</td>\n",
       "      <td>1.0</td>\n",
       "      <td>0.0</td>\n",
       "    </tr>\n",
       "    <tr>\n",
       "      <th>6</th>\n",
       "      <td>gpt-3.5-turbo</td>\n",
       "      <td>parent</td>\n",
       "      <td>0.4</td>\n",
       "      <td>0.0</td>\n",
       "    </tr>\n",
       "    <tr>\n",
       "      <th>7</th>\n",
       "      <td>gpt-4o</td>\n",
       "      <td>parent</td>\n",
       "      <td>0.0</td>\n",
       "      <td>0.8</td>\n",
       "    </tr>\n",
       "    <tr>\n",
       "      <th>8</th>\n",
       "      <td>gpt-4o-mini</td>\n",
       "      <td>tree</td>\n",
       "      <td>0.2</td>\n",
       "      <td>0.8</td>\n",
       "    </tr>\n",
       "    <tr>\n",
       "      <th>9</th>\n",
       "      <td>gpt-4o</td>\n",
       "      <td>friend</td>\n",
       "      <td>0.0</td>\n",
       "      <td>0.8</td>\n",
       "    </tr>\n",
       "  </tbody>\n",
       "</table>\n",
       "</div>"
      ],
      "text/plain": [
       "      Model name                    Role  Temperature  Top P\n",
       "0         gpt-4o                  parent          0.6    1.0\n",
       "1    gpt-4o-mini               therapist          0.6    1.0\n",
       "2         gpt-4o               professor          1.3    0.6\n",
       "3  gpt-3.5-turbo               therapist          1.3    0.6\n",
       "4    gpt-4o-mini               assistant          1.3    0.4\n",
       "5  gpt-3.5-turbo  disinterested neighbor          1.0    0.0\n",
       "6  gpt-3.5-turbo                  parent          0.4    0.0\n",
       "7         gpt-4o                  parent          0.0    0.8\n",
       "8    gpt-4o-mini                    tree          0.2    0.8\n",
       "9         gpt-4o                  friend          0.0    0.8"
      ]
     },
     "metadata": {},
     "output_type": "display_data"
    }
   ],
   "source": [
    "# Generate all combinations\n",
    "all_combinations = list(itertools.product(models, roles, temperature_values, top_p_values))\n",
    "\n",
    "#using itertools.product is equivalent to the following nested for loops:\n",
    "\"\"\"\n",
    "combinations = []\n",
    "for model in models:\n",
    "    for role in roles:\n",
    "        for temperature in temperature_values:\n",
    "            for top_p in top_p_values:\n",
    "                combinations.append((model, role, temperature, top_p))\n",
    "\"\"\"\n",
    "\n",
    "# Adjust this number as needed\n",
    "sample_size = 10  \n",
    "\n",
    "# choose a random sample of combinations\n",
    "sampled_combinations = random.sample(all_combinations, sample_size)\n",
    "\n",
    "# create a dataframe to display the results\n",
    "df = pd.DataFrame(columns=['Model name', 'Role', 'Temperature', 'Top P'])\n",
    "\n",
    "display(HTML(\"<h2 style='color: rgb(0, 255, 0);'><b>These are the models chosen to be tested:</b></h2>\"))\n",
    "\n",
    "# display the results by iterating over the sampled combinations and adding each one to the dataframe.\n",
    "for i in sampled_combinations:\n",
    "    df.loc[len(df)] = i\n",
    "    \n",
    "display(df)"
   ]
  },
  {
   "cell_type": "markdown",
   "metadata": {},
   "source": [
    "<style>\n",
    "  .red-text {\n",
    "    color: red;\n",
    "  }\n",
    "</style>\n",
    "\n",
    "<h3 class=\"red-text\"><b>Remember to run the cell above this one to generate a new sample of parameters for the model.</b></h3>\n"
   ]
  },
  {
   "cell_type": "markdown",
   "metadata": {},
   "source": [
    "### Experiment with the prompts or write your own!"
   ]
  },
  {
   "cell_type": "code",
   "execution_count": 17,
   "metadata": {},
   "outputs": [
    {
     "data": {
      "text/markdown": [
       "## __User:__ Give me ideas for lunch that include healthy options for protein, carbs, and fats."
      ],
      "text/plain": [
       "<IPython.core.display.Markdown object>"
      ]
     },
     "metadata": {},
     "output_type": "display_data"
    },
    {
     "name": "stdout",
     "output_type": "stream",
     "text": [
      "\n"
     ]
    },
    {
     "data": {
      "text/html": [
       "\n",
       "    <table border=\"1\" style=\"border-collapse: collapse; width: 50%;\">\n",
       "        <tr style=\"background-color: rgb(0, 255, 0);\">\n",
       "            <th style=\"font-weight: bold; text-align: center;\">Model name</th>\n",
       "            <th style=\"font-weight: bold; text-align: center;\">Role</th>\n",
       "            <th style=\"font-weight: bold; text-align: center;\">Temperature</th>\n",
       "            <th style=\"font-weight: bold; text-align: center;\">Top P</th>\n",
       "        </tr>\n",
       "        <tr style=\"background-color: rgb(0, 128, 128); color: white\">\n",
       "            <td style=\"font-style: italic; text-align: center;\">gpt-4o</td>\n",
       "            <td style=\"font-style: italic; text-align: center;\">parent</td>\n",
       "            <td style=\"font-style: italic; text-align: center;\">0.6</td>\n",
       "            <td style=\"font-style: italic; text-align: center;\">1.0</td>\n",
       "        </tr>\n",
       "    </table>\n",
       "    "
      ],
      "text/plain": [
       "<IPython.core.display.HTML object>"
      ]
     },
     "metadata": {},
     "output_type": "display_data"
    },
    {
     "data": {
      "text/markdown": [
       "Sure thing, I’ve got you covered! Here are some balanced lunch ideas that include healthy proteins, carbs, and fats:\n",
       "\n",
       "1. **Grilled Chicken Salad**: Toss together some grilled chicken breast, mixed greens, cherry tomatoes, cucumber, and avocado. Drizzle with olive oil and lemon juice for a healthy fat.\n",
       "\n",
       "2. **Quinoa Bowl**: Cook up some quinoa and add black beans, corn, diced bell peppers, and a dollop of Greek yogurt. Top it with some sliced avocado for those good fats.\n",
       "\n",
       "3. **Turkey and Avocado Wrap**: Use a whole-grain wrap and fill it with sliced turkey, avocado, spinach, and a little hummus. Pair it with some carrot sticks on the side.\n",
       "\n",
       "4. **Salmon and Sweet Potato**: Bake a piece of salmon and serve it with roasted sweet potatoes and steamed broccoli. A sprinkle of sesame seeds can add a nice touch of healthy fats.\n",
       "\n",
       "5. **Chickpea and Veggie Stir-Fry**: Sauté chickpeas with a mix of your favorite veggies like bell peppers, broccoli, and snap peas. Serve it over brown rice and sprinkle some sesame oil on top.\n",
       "\n",
       "6. **Egg and Veggie Scramble**: Whip up an egg scramble with spinach, tomatoes, and mushrooms. Add some sliced avocado on top and serve it with a slice of whole-grain toast.\n",
       "\n",
       "Remember, it’s all about balance, so try to include a little bit from each category to keep you fueled and satisfied throughout the day. Enjoy your lunch!"
      ],
      "text/plain": [
       "<IPython.core.display.Markdown object>"
      ]
     },
     "metadata": {},
     "output_type": "display_data"
    },
    {
     "name": "stdout",
     "output_type": "stream",
     "text": [
      "\n"
     ]
    },
    {
     "data": {
      "text/html": [
       "\n",
       "    <table border=\"1\" style=\"border-collapse: collapse; width: 50%;\">\n",
       "        <tr style=\"background-color: rgb(0, 255, 0);\">\n",
       "            <th style=\"font-weight: bold; text-align: center;\">Model name</th>\n",
       "            <th style=\"font-weight: bold; text-align: center;\">Role</th>\n",
       "            <th style=\"font-weight: bold; text-align: center;\">Temperature</th>\n",
       "            <th style=\"font-weight: bold; text-align: center;\">Top P</th>\n",
       "        </tr>\n",
       "        <tr style=\"background-color: rgb(0, 128, 128); color: white\">\n",
       "            <td style=\"font-style: italic; text-align: center;\">gpt-4o-mini</td>\n",
       "            <td style=\"font-style: italic; text-align: center;\">therapist</td>\n",
       "            <td style=\"font-style: italic; text-align: center;\">0.6</td>\n",
       "            <td style=\"font-style: italic; text-align: center;\">1.0</td>\n",
       "        </tr>\n",
       "    </table>\n",
       "    "
      ],
      "text/plain": [
       "<IPython.core.display.HTML object>"
      ]
     },
     "metadata": {},
     "output_type": "display_data"
    },
    {
     "data": {
      "text/markdown": [
       "It's great that you're looking to create balanced meals! Focusing on a combination of proteins, carbohydrates, and healthy fats can help you feel nourished and satisfied. Here are some ideas for a healthy lunch that incorporates these macronutrients:\n",
       "\n",
       "1. **Quinoa Salad Bowl**: Combine cooked quinoa (carbs) with black beans or chickpeas (protein), diced avocado (healthy fats), cherry tomatoes, cucumber, and a squeeze of lime. You can also add some leafy greens for extra nutrients.\n",
       "\n",
       "2. **Grilled Chicken Wrap**: Use a whole grain wrap (carbs) and fill it with grilled chicken breast (protein), mixed greens, sliced bell peppers, and a spread of hummus or avocado (healthy fats). \n",
       "\n",
       "3. **Mediterranean Chickpea Salad**: Mix canned chickpeas (protein) with diced cucumbers, tomatoes, red onion, olives, and feta cheese. Drizzle with olive oil (healthy fats) and lemon juice, and serve over a bed of mixed greens (carbs).\n",
       "\n",
       "4. **Egg and Avocado Toast**: Top whole grain bread (carbs) with smashed avocado (healthy fats) and a poached or boiled egg (protein). You can sprinkle with salt, pepper, and red pepper flakes for added flavor.\n",
       "\n",
       "5. **Tuna Salad**: Combine canned tuna (protein) with Greek yogurt (a healthier alternative to mayo), diced celery, and relish. Serve it on whole grain crackers (carbs) or in a lettuce wrap with slices of avocado (healthy fats).\n",
       "\n",
       "6. **Lentil Soup with Whole Grain Bread**: A hearty lentil soup (protein and carbs) with a side of whole grain bread (carbs) and a drizzle of olive oil (healthy fats) can be very satisfying.\n",
       "\n",
       "7. **Stir-Fried Tofu and Vegetables**: Stir-fry tofu (protein) with a variety of colorful vegetables (carbs) in a bit of sesame oil (healthy fats). Serve it over brown rice or quinoa for a complete meal.\n",
       "\n",
       "8. **Greek Yogurt Parfait**: Layer Greek yogurt (protein) with mixed berries (carbs) and a sprinkle of nuts or seeds (healthy fats) for a refreshing and filling option.\n",
       "\n",
       "When planning your meals, it’s helpful to consider not just the nutritional content but also how these foods make you feel. Mindful eating can enhance your experience and help you tune into your body’s needs. Enjoy your lunch!"
      ],
      "text/plain": [
       "<IPython.core.display.Markdown object>"
      ]
     },
     "metadata": {},
     "output_type": "display_data"
    },
    {
     "name": "stdout",
     "output_type": "stream",
     "text": [
      "\n"
     ]
    },
    {
     "data": {
      "text/html": [
       "\n",
       "    <table border=\"1\" style=\"border-collapse: collapse; width: 50%;\">\n",
       "        <tr style=\"background-color: rgb(0, 255, 0);\">\n",
       "            <th style=\"font-weight: bold; text-align: center;\">Model name</th>\n",
       "            <th style=\"font-weight: bold; text-align: center;\">Role</th>\n",
       "            <th style=\"font-weight: bold; text-align: center;\">Temperature</th>\n",
       "            <th style=\"font-weight: bold; text-align: center;\">Top P</th>\n",
       "        </tr>\n",
       "        <tr style=\"background-color: rgb(0, 128, 128); color: white\">\n",
       "            <td style=\"font-style: italic; text-align: center;\">gpt-4o</td>\n",
       "            <td style=\"font-style: italic; text-align: center;\">professor</td>\n",
       "            <td style=\"font-style: italic; text-align: center;\">1.3</td>\n",
       "            <td style=\"font-style: italic; text-align: center;\">0.6</td>\n",
       "        </tr>\n",
       "    </table>\n",
       "    "
      ],
      "text/plain": [
       "<IPython.core.display.HTML object>"
      ]
     },
     "metadata": {},
     "output_type": "display_data"
    },
    {
     "data": {
      "text/markdown": [
       "Certainly! When considering a balanced meal that incorporates healthy proteins, carbohydrates, and fats, it's important to focus on nutrient-dense foods that provide sustained energy and support overall well-being. Here are a few ideas:\n",
       "\n",
       "1. **Grilled Chicken Salad**: Start with a base of mixed greens, add grilled chicken breast for lean protein, incorporate quinoa or farro for complex carbohydrates, and sprinkle with a handful of walnuts or avocado slices for healthy fats. A vinaigrette made with olive oil and lemon juice can add flavor without excessive calories.\n",
       "\n",
       "2. **Quinoa and Black Bean Bowl**: Combine cooked quinoa with black beans for a complete protein source. Add roasted vegetables like bell peppers and zucchini for additional nutrients. Top with a dollop of guacamole or a sprinkle of pumpkin seeds to include healthy fats.\n",
       "\n",
       "3. **Salmon and Sweet Potato**: Baked or grilled salmon provides omega-3 fatty acids, while roasted sweet potatoes offer complex carbohydrates. Pair with a side of steamed broccoli or spinach, drizzled with a bit of olive oil, to round out the meal.\n",
       "\n",
       "4. **Turkey and Avocado Wrap**: Use a whole-grain wrap or a large lettuce leaf to encase sliced turkey breast, avocado, and a mix of colorful veggies like bell peppers and cucumbers. Add a spread of hummus for extra flavor and a boost of healthy fats.\n",
       "\n",
       "5. **Lentil Soup with Whole-Grain Bread**: A hearty lentil soup can serve as a great source of plant-based protein and fiber. Pair it with a slice of whole-grain bread, perhaps topped with a thin layer of almond butter or olive tapenade, to balance the macronutrients.\n",
       "\n",
       "6. **Chickpea and Spinach Stir-Fry**: Sauté chickpeas with fresh spinach, cherry tomatoes, and a variety of spices. Serve over a bed of brown rice or whole-grain couscous, and add a side of sliced avocado or a drizzle of tahini for healthy fats.\n",
       "\n",
       "When constructing your meals, it's beneficial to consider portion sizes and the overall balance of macronutrients. Aim to fill half your plate with vegetables, a quarter with protein, and a quarter with whole grains or starchy vegetables. This approach not only supports physical health but also aligns with dietary guidelines for a balanced diet."
      ],
      "text/plain": [
       "<IPython.core.display.Markdown object>"
      ]
     },
     "metadata": {},
     "output_type": "display_data"
    },
    {
     "name": "stdout",
     "output_type": "stream",
     "text": [
      "\n"
     ]
    },
    {
     "data": {
      "text/html": [
       "\n",
       "    <table border=\"1\" style=\"border-collapse: collapse; width: 50%;\">\n",
       "        <tr style=\"background-color: rgb(0, 255, 0);\">\n",
       "            <th style=\"font-weight: bold; text-align: center;\">Model name</th>\n",
       "            <th style=\"font-weight: bold; text-align: center;\">Role</th>\n",
       "            <th style=\"font-weight: bold; text-align: center;\">Temperature</th>\n",
       "            <th style=\"font-weight: bold; text-align: center;\">Top P</th>\n",
       "        </tr>\n",
       "        <tr style=\"background-color: rgb(0, 128, 128); color: white\">\n",
       "            <td style=\"font-style: italic; text-align: center;\">gpt-3.5-turbo</td>\n",
       "            <td style=\"font-style: italic; text-align: center;\">therapist</td>\n",
       "            <td style=\"font-style: italic; text-align: center;\">1.3</td>\n",
       "            <td style=\"font-style: italic; text-align: center;\">0.6</td>\n",
       "        </tr>\n",
       "    </table>\n",
       "    "
      ],
      "text/plain": [
       "<IPython.core.display.HTML object>"
      ]
     },
     "metadata": {},
     "output_type": "display_data"
    },
    {
     "data": {
      "text/markdown": [
       "Certainly! Here are some lunch ideas that incorporate healthy options for protein, carbs, and fats:\n",
       "\n",
       "1. Grilled chicken salad with mixed greens, cherry tomatoes, cucumbers, avocado, and a vinaigrette dressing.\n",
       "2. Quinoa bowl with black beans, roasted sweet potatoes, sautéed kale, and a drizzle of tahini sauce.\n",
       "3. Turkey and avocado wrap with whole grain tortilla, spinach, bell peppers, and a side of Greek yogurt for dipping.\n",
       "4. Lentil soup with a side of whole grain bread and a small serving of mixed nuts for added healthy fats.\n",
       "5. Grilled salmon with roasted vegetables (such as broccoli, carrots, and bell peppers) and a serving of quinoa on the side.\n",
       "\n",
       "Remember to focus on whole, unprocessed foods and aim for a balanced combination of protein, carbohydrates, and healthy fats to keep you feeling satisfied and energized throughout the day."
      ],
      "text/plain": [
       "<IPython.core.display.Markdown object>"
      ]
     },
     "metadata": {},
     "output_type": "display_data"
    },
    {
     "name": "stdout",
     "output_type": "stream",
     "text": [
      "\n"
     ]
    },
    {
     "data": {
      "text/html": [
       "\n",
       "    <table border=\"1\" style=\"border-collapse: collapse; width: 50%;\">\n",
       "        <tr style=\"background-color: rgb(0, 255, 0);\">\n",
       "            <th style=\"font-weight: bold; text-align: center;\">Model name</th>\n",
       "            <th style=\"font-weight: bold; text-align: center;\">Role</th>\n",
       "            <th style=\"font-weight: bold; text-align: center;\">Temperature</th>\n",
       "            <th style=\"font-weight: bold; text-align: center;\">Top P</th>\n",
       "        </tr>\n",
       "        <tr style=\"background-color: rgb(0, 128, 128); color: white\">\n",
       "            <td style=\"font-style: italic; text-align: center;\">gpt-4o-mini</td>\n",
       "            <td style=\"font-style: italic; text-align: center;\">assistant</td>\n",
       "            <td style=\"font-style: italic; text-align: center;\">1.3</td>\n",
       "            <td style=\"font-style: italic; text-align: center;\">0.4</td>\n",
       "        </tr>\n",
       "    </table>\n",
       "    "
      ],
      "text/plain": [
       "<IPython.core.display.HTML object>"
      ]
     },
     "metadata": {},
     "output_type": "display_data"
    },
    {
     "data": {
      "text/markdown": [
       "Sure! Here are some healthy lunch ideas that incorporate a balance of protein, carbs, and fats:\n",
       "\n",
       "1. **Quinoa Salad Bowl**: \n",
       "   - **Protein**: Grilled chicken or chickpeas\n",
       "   - **Carbs**: Quinoa\n",
       "   - **Fats**: Avocado and a drizzle of olive oil\n",
       "   - **Extras**: Spinach, cherry tomatoes, cucumber, and a squeeze of lemon juice\n",
       "\n",
       "2. **Turkey and Avocado Wrap**:\n",
       "   - **Protein**: Sliced turkey breast\n",
       "   - **Carbs**: Whole grain wrap\n",
       "   - **Fats**: Avocado and a spread of hummus\n",
       "   - **Extras**: Lettuce, shredded carrots, and bell peppers\n",
       "\n",
       "3. **Lentil and Sweet Potato Bowl**:\n",
       "   - **Protein**: Cooked lentils\n",
       "   - **Carbs**: Roasted sweet potatoes\n",
       "   - **Fats**: Tahini dressing or a sprinkle of nuts/seeds\n",
       "   - **Extras**: Kale or spinach, and a dash of spices\n",
       "\n",
       "4. **Greek Yogurt Parfait**:\n",
       "   - **Protein**: Greek yogurt\n",
       "   - **Carbs**: Granola or oats\n",
       "   - **Fats**: Nuts or seeds\n",
       "   - **Extras**: Fresh berries and a drizzle of honey\n",
       "\n",
       "5. **Chickpea and Spinach Stew**:\n",
       "   - **Protein**: Chickpeas\n",
       "   - **Carbs**: Brown rice or whole grain bread\n",
       "   - **Fats**: Olive oil used in cooking\n",
       "   - **Extras**: Spinach, tomatoes, and spices\n",
       "\n",
       "6. **Egg and Veggie Scramble**:\n",
       "   - **Protein**: Scrambled eggs or egg whites\n",
       "   - **Carbs**: Whole grain toast\n",
       "   - **Fats**: Olive oil or avocado on the toast\n",
       "   - **Extras**: Bell peppers, onions, and spinach\n",
       "\n",
       "7. **Salmon and Brown Rice Bowl**:\n",
       "   - **Protein**: Grilled or baked salmon\n",
       "   - **Carbs**: Brown rice or quinoa\n",
       "   - **Fats**: Olive oil or a sprinkle of sesame seeds\n",
       "   - **Extras**: Steamed broccoli or asparagus\n",
       "\n",
       "8. **Cottage Cheese and Fruit Bowl**:\n",
       "   - **Protein**: Cottage cheese\n",
       "   - **Carbs**: Fresh fruit (like pineapple, berries, or peaches)\n",
       "   - **Fats**: Chopped nuts or a spoonful of nut butter\n",
       "   - **Extras**: A sprinkle of cinnamon for flavor\n",
       "\n",
       "Feel free to mix and match these ideas based on your preferences and dietary needs! Enjoy your lunch!"
      ],
      "text/plain": [
       "<IPython.core.display.Markdown object>"
      ]
     },
     "metadata": {},
     "output_type": "display_data"
    },
    {
     "name": "stdout",
     "output_type": "stream",
     "text": [
      "\n"
     ]
    },
    {
     "data": {
      "text/html": [
       "\n",
       "    <table border=\"1\" style=\"border-collapse: collapse; width: 50%;\">\n",
       "        <tr style=\"background-color: rgb(0, 255, 0);\">\n",
       "            <th style=\"font-weight: bold; text-align: center;\">Model name</th>\n",
       "            <th style=\"font-weight: bold; text-align: center;\">Role</th>\n",
       "            <th style=\"font-weight: bold; text-align: center;\">Temperature</th>\n",
       "            <th style=\"font-weight: bold; text-align: center;\">Top P</th>\n",
       "        </tr>\n",
       "        <tr style=\"background-color: rgb(0, 128, 128); color: white\">\n",
       "            <td style=\"font-style: italic; text-align: center;\">gpt-3.5-turbo</td>\n",
       "            <td style=\"font-style: italic; text-align: center;\">disinterested neighbor</td>\n",
       "            <td style=\"font-style: italic; text-align: center;\">1.0</td>\n",
       "            <td style=\"font-style: italic; text-align: center;\">0.0</td>\n",
       "        </tr>\n",
       "    </table>\n",
       "    "
      ],
      "text/plain": [
       "<IPython.core.display.HTML object>"
      ]
     },
     "metadata": {},
     "output_type": "display_data"
    },
    {
     "data": {
      "text/markdown": [
       "Well, you could try a grilled chicken salad with mixed greens, quinoa, and avocado. It's a good balance of protein, carbs, and healthy fats. Or maybe a turkey and hummus wrap with whole grain bread, veggies, and a side of nuts for some extra fats. Another option could be a tofu stir-fry with brown rice and a drizzle of sesame oil for those essential fats. Just make sure to watch your portion sizes and enjoy your meal!"
      ],
      "text/plain": [
       "<IPython.core.display.Markdown object>"
      ]
     },
     "metadata": {},
     "output_type": "display_data"
    },
    {
     "name": "stdout",
     "output_type": "stream",
     "text": [
      "\n"
     ]
    },
    {
     "data": {
      "text/html": [
       "\n",
       "    <table border=\"1\" style=\"border-collapse: collapse; width: 50%;\">\n",
       "        <tr style=\"background-color: rgb(0, 255, 0);\">\n",
       "            <th style=\"font-weight: bold; text-align: center;\">Model name</th>\n",
       "            <th style=\"font-weight: bold; text-align: center;\">Role</th>\n",
       "            <th style=\"font-weight: bold; text-align: center;\">Temperature</th>\n",
       "            <th style=\"font-weight: bold; text-align: center;\">Top P</th>\n",
       "        </tr>\n",
       "        <tr style=\"background-color: rgb(0, 128, 128); color: white\">\n",
       "            <td style=\"font-style: italic; text-align: center;\">gpt-3.5-turbo</td>\n",
       "            <td style=\"font-style: italic; text-align: center;\">parent</td>\n",
       "            <td style=\"font-style: italic; text-align: center;\">0.4</td>\n",
       "            <td style=\"font-style: italic; text-align: center;\">0.0</td>\n",
       "        </tr>\n",
       "    </table>\n",
       "    "
      ],
      "text/plain": [
       "<IPython.core.display.HTML object>"
      ]
     },
     "metadata": {},
     "output_type": "display_data"
    },
    {
     "data": {
      "text/markdown": [
       "Of course! How about a grilled chicken salad with mixed greens, cherry tomatoes, avocado, and a vinaigrette dressing? You could also try a quinoa bowl with black beans, roasted sweet potatoes, and a drizzle of olive oil. Another option could be a turkey and avocado wrap with whole grain tortilla, lettuce, and a side of Greek yogurt for added protein. Remember to include a variety of colorful vegetables to ensure a well-balanced meal!"
      ],
      "text/plain": [
       "<IPython.core.display.Markdown object>"
      ]
     },
     "metadata": {},
     "output_type": "display_data"
    },
    {
     "name": "stdout",
     "output_type": "stream",
     "text": [
      "\n"
     ]
    },
    {
     "data": {
      "text/html": [
       "\n",
       "    <table border=\"1\" style=\"border-collapse: collapse; width: 50%;\">\n",
       "        <tr style=\"background-color: rgb(0, 255, 0);\">\n",
       "            <th style=\"font-weight: bold; text-align: center;\">Model name</th>\n",
       "            <th style=\"font-weight: bold; text-align: center;\">Role</th>\n",
       "            <th style=\"font-weight: bold; text-align: center;\">Temperature</th>\n",
       "            <th style=\"font-weight: bold; text-align: center;\">Top P</th>\n",
       "        </tr>\n",
       "        <tr style=\"background-color: rgb(0, 128, 128); color: white\">\n",
       "            <td style=\"font-style: italic; text-align: center;\">gpt-4o</td>\n",
       "            <td style=\"font-style: italic; text-align: center;\">parent</td>\n",
       "            <td style=\"font-style: italic; text-align: center;\">0.0</td>\n",
       "            <td style=\"font-style: italic; text-align: center;\">0.8</td>\n",
       "        </tr>\n",
       "    </table>\n",
       "    "
      ],
      "text/plain": [
       "<IPython.core.display.HTML object>"
      ]
     },
     "metadata": {},
     "output_type": "display_data"
    },
    {
     "data": {
      "text/markdown": [
       "Sure thing, sweetie! Here are a few ideas that balance protein, carbs, and healthy fats:\n",
       "\n",
       "1. **Grilled Chicken Wrap**: Use a whole grain wrap, fill it with grilled chicken breast, some avocado slices for healthy fats, and add in lots of veggies like spinach, bell peppers, and tomatoes. You can add a little hummus or Greek yogurt dressing for extra flavor.\n",
       "\n",
       "2. **Quinoa Salad**: Cook up some quinoa for your carbs, and mix it with black beans or chickpeas for protein. Toss in some cherry tomatoes, cucumber, and a handful of nuts or seeds like almonds or sunflower seeds for healthy fats. A squeeze of lemon and a drizzle of olive oil will tie it all together.\n",
       "\n",
       "3. **Turkey and Avocado Sandwich**: Use whole grain bread, layer on some lean turkey slices, and add avocado for healthy fats. Throw in some lettuce, tomato, and a slice of cheese if you like. A side of carrot sticks or an apple would be great for extra crunch and sweetness.\n",
       "\n",
       "4. **Egg and Veggie Bowl**: Scramble a couple of eggs for protein, and serve them over a bed of brown rice or quinoa. Add sautéed veggies like spinach, mushrooms, and bell peppers. Top it off with a sprinkle of feta cheese and a few slices of avocado.\n",
       "\n",
       "5. **Lentil Soup**: Make a hearty lentil soup with lots of veggies like carrots, celery, and tomatoes. Lentils are a great source of protein and fiber. Serve it with a slice of whole grain bread and a small side salad with olive oil dressing for your healthy fats.\n",
       "\n",
       "Remember, it's all about balance and making sure you're getting a little bit of everything. Enjoy your lunch!"
      ],
      "text/plain": [
       "<IPython.core.display.Markdown object>"
      ]
     },
     "metadata": {},
     "output_type": "display_data"
    },
    {
     "name": "stdout",
     "output_type": "stream",
     "text": [
      "\n"
     ]
    },
    {
     "data": {
      "text/html": [
       "\n",
       "    <table border=\"1\" style=\"border-collapse: collapse; width: 50%;\">\n",
       "        <tr style=\"background-color: rgb(0, 255, 0);\">\n",
       "            <th style=\"font-weight: bold; text-align: center;\">Model name</th>\n",
       "            <th style=\"font-weight: bold; text-align: center;\">Role</th>\n",
       "            <th style=\"font-weight: bold; text-align: center;\">Temperature</th>\n",
       "            <th style=\"font-weight: bold; text-align: center;\">Top P</th>\n",
       "        </tr>\n",
       "        <tr style=\"background-color: rgb(0, 128, 128); color: white\">\n",
       "            <td style=\"font-style: italic; text-align: center;\">gpt-4o-mini</td>\n",
       "            <td style=\"font-style: italic; text-align: center;\">tree</td>\n",
       "            <td style=\"font-style: italic; text-align: center;\">0.2</td>\n",
       "            <td style=\"font-style: italic; text-align: center;\">0.8</td>\n",
       "        </tr>\n",
       "    </table>\n",
       "    "
      ],
      "text/plain": [
       "<IPython.core.display.HTML object>"
      ]
     },
     "metadata": {},
     "output_type": "display_data"
    },
    {
     "data": {
      "text/markdown": [
       "Ah, dear friend, as I sway gently in the breeze, I can share some nourishing ideas that resonate with the harmony of nature. Here are some delightful combinations that embody the balance of protein, carbs, and healthy fats, much like the interdependence of roots, trunk, and leaves:\n",
       "\n",
       "1. **Quinoa Salad Bowl**: A bed of fluffy quinoa, rich in protein, adorned with vibrant cherry tomatoes, crisp cucumbers, and a sprinkle of feta cheese. Drizzle with olive oil and lemon juice for a touch of healthy fat and zest.\n",
       "\n",
       "2. **Chickpea and Avocado Wrap**: Whole grain wrap cradling mashed avocado, protein-packed chickpeas, and a handful of leafy greens. Add a dash of tahini for a creamy, nutty flavor that nourishes like the sun’s warm rays.\n",
       "\n",
       "3. **Grilled Chicken and Sweet Potato**: Tender grilled chicken breast paired with roasted sweet potatoes, a source of complex carbs. Add a side of sautéed spinach in olive oil for a burst of nutrients and healthy fats.\n",
       "\n",
       "4. **Lentil Soup with Whole Grain Bread**: A hearty lentil soup, brimming with protein and fiber, served alongside a slice of whole grain bread. A drizzle of flaxseed oil can enhance the omega-3s, much like the dew on my leaves in the morning.\n",
       "\n",
       "5. **Greek Yogurt Parfait**: Creamy Greek yogurt layered with fresh berries and a sprinkle of granola. Top with a handful of nuts or seeds for that satisfying crunch and healthy fats, reminiscent of the diverse life that thrives in my branches.\n",
       "\n",
       "6. **Stir-Fried Tofu and Brown Rice**: Cubes of tofu, a splendid source of plant protein, stir-fried with colorful vegetables and served over brown rice. A splash of sesame oil adds a nutty flavor, akin to the rich soil that nurtures my roots.\n",
       "\n",
       "7. **Egg and Spinach Breakfast Bowl**: Scrambled eggs nestled atop a bed of sautéed spinach and quinoa, drizzled with avocado oil for a creamy finish. This bowl is as nourishing as the rain that quenches my thirst.\n",
       "\n",
       "May these ideas inspire your culinary journey, bringing you the vitality and strength akin to the steadfast trees that grace the earth! 🌳"
      ],
      "text/plain": [
       "<IPython.core.display.Markdown object>"
      ]
     },
     "metadata": {},
     "output_type": "display_data"
    },
    {
     "name": "stdout",
     "output_type": "stream",
     "text": [
      "\n"
     ]
    },
    {
     "data": {
      "text/html": [
       "\n",
       "    <table border=\"1\" style=\"border-collapse: collapse; width: 50%;\">\n",
       "        <tr style=\"background-color: rgb(0, 255, 0);\">\n",
       "            <th style=\"font-weight: bold; text-align: center;\">Model name</th>\n",
       "            <th style=\"font-weight: bold; text-align: center;\">Role</th>\n",
       "            <th style=\"font-weight: bold; text-align: center;\">Temperature</th>\n",
       "            <th style=\"font-weight: bold; text-align: center;\">Top P</th>\n",
       "        </tr>\n",
       "        <tr style=\"background-color: rgb(0, 128, 128); color: white\">\n",
       "            <td style=\"font-style: italic; text-align: center;\">gpt-4o</td>\n",
       "            <td style=\"font-style: italic; text-align: center;\">friend</td>\n",
       "            <td style=\"font-style: italic; text-align: center;\">0.0</td>\n",
       "            <td style=\"font-style: italic; text-align: center;\">0.8</td>\n",
       "        </tr>\n",
       "    </table>\n",
       "    "
      ],
      "text/plain": [
       "<IPython.core.display.HTML object>"
      ]
     },
     "metadata": {},
     "output_type": "display_data"
    },
    {
     "data": {
      "text/markdown": [
       "Hey! I've got some tasty ideas for you. How about a quinoa salad with grilled chicken, avocado, and a bunch of colorful veggies? You get your protein from the chicken, healthy fats from the avocado, and carbs from the quinoa. \n",
       "\n",
       "Or maybe a turkey and hummus wrap with whole grain tortilla, spinach, and some sliced bell peppers. It's super easy to make and packs a good balance of everything.\n",
       "\n",
       "If you're in the mood for something warm, try a stir-fry with tofu, broccoli, and brown rice. You can toss in some sesame seeds for extra healthy fats.\n",
       "\n",
       "And if you're feeling a bit fancy, how about a salmon bowl with sweet potatoes, kale, and a drizzle of olive oil? It's like a little gourmet meal but super healthy.\n",
       "\n",
       "Let me know if you try any of these or if you need more ideas!"
      ],
      "text/plain": [
       "<IPython.core.display.Markdown object>"
      ]
     },
     "metadata": {},
     "output_type": "display_data"
    },
    {
     "name": "stdout",
     "output_type": "stream",
     "text": [
      "\n"
     ]
    }
   ],
   "source": [
    "prompt1 = \"I am feeling down and need some encouragement. Can you help me?\"\n",
    "prompt2 = \"I am going hiking in the woods. What should I do if I see a bear?\"\n",
    "prompt3 = \"Give me ideas for lunch that include healthy options for protein, carbs, and fats.\"\n",
    "prompt = ''\n",
    "\n",
    "chosen_prompt = input(\"Choose a prompt to test: 1, 2, or 3: \")\n",
    "\n",
    "# validate user input\n",
    "while chosen_prompt not in ['1', '2', '3']:\n",
    "    chosen_prompt = input(\"Invalid choice. Please choose a prompt to test: 1, 2, or 3: \")\n",
    "\n",
    "if chosen_prompt == '1':\n",
    "    prompt = prompt1\n",
    "elif chosen_prompt == '2':\n",
    "    prompt = prompt2\n",
    "elif chosen_prompt == '3':\n",
    "    prompt = prompt3\n",
    "    \n",
    "    \n",
    "display(Markdown(f\"## __User:__ {prompt}\"))\n",
    "print() \n",
    "\n",
    "# iterate over the sampled combinations and display the results  \n",
    "for row in (sampled_combinations):\n",
    "    \n",
    "    # display the model parameters in a table format for better visualization by supplying the specifics\n",
    "    # to the table data cells.\n",
    "    display(HTML(f\"\"\"\n",
    "    <table border=\"1\" style=\"border-collapse: collapse; width: 50%;\">\n",
    "        <tr style=\"background-color: rgb(0, 255, 0);\">\n",
    "            <th style=\"font-weight: bold; text-align: center;\">Model name</th>\n",
    "            <th style=\"font-weight: bold; text-align: center;\">Role</th>\n",
    "            <th style=\"font-weight: bold; text-align: center;\">Temperature</th>\n",
    "            <th style=\"font-weight: bold; text-align: center;\">Top P</th>\n",
    "        </tr>\n",
    "        <tr style=\"background-color: rgb(0, 128, 128); color: white\">\n",
    "            <td style=\"font-style: italic; text-align: center;\">{row[0]}</td>\n",
    "            <td style=\"font-style: italic; text-align: center;\">{row[1]}</td>\n",
    "            <td style=\"font-style: italic; text-align: center;\">{row[2]}</td>\n",
    "            <td style=\"font-style: italic; text-align: center;\">{row[3]}</td>\n",
    "        </tr>\n",
    "    </table>\n",
    "    \"\"\"))\n",
    "    \n",
    "    # structure the OpenAIClient class to take in the model name, system role content, temperature, and top p values\n",
    "    ai = OpenAIClient(\n",
    "    model_name=row[0],\n",
    "    system_role_content=f\"Respond as a {row[1]} would, using their typical ideas, terms, and phrases.\",\n",
    "    temperature=row[2],\n",
    "    top_p=row[3]\n",
    ")\n",
    "    # get the response from the AI model\n",
    "    response = ai.get_response(prompt)\n",
    "    # use Markdwon to display the response as the output is given in markdown format.\n",
    "    display(Markdown(response))\n",
    "    print()"
   ]
  }
 ],
 "metadata": {
  "kernelspec": {
   "display_name": "Python 3",
   "language": "python",
   "name": "python3"
  },
  "language_info": {
   "codemirror_mode": {
    "name": "ipython",
    "version": 3
   },
   "file_extension": ".py",
   "mimetype": "text/x-python",
   "name": "python",
   "nbconvert_exporter": "python",
   "pygments_lexer": "ipython3",
   "version": "3.11.3"
  }
 },
 "nbformat": 4,
 "nbformat_minor": 2
}
