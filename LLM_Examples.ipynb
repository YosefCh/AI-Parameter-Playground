{
 "cells": [
  {
   "cell_type": "code",
   "execution_count": 4,
   "metadata": {},
   "outputs": [],
   "source": [
    "from IPython.display import display, Markdown, HTML\n",
    "from class_version import OpenAIClient"
   ]
  },
  {
   "cell_type": "code",
   "execution_count": 5,
   "metadata": {},
   "outputs": [
    {
     "name": "stdout",
     "output_type": "stream",
     "text": [
      "The capital of Greece is Athens.\n"
     ]
    }
   ],
   "source": [
    "x = OpenAIClient()\n",
    "print(x.get_response(\"What is the capital of greece?\"))"
   ]
  },
  {
   "cell_type": "code",
   "execution_count": 4,
   "metadata": {},
   "outputs": [
    {
     "data": {
      "text/markdown": [
       "Ah, the inquiry you proffer pertains to the geopolitical epicenter of Hellenic civilization, wherein one may discern the confluence of historical gravitas and contemporary urbanity. The locus of administrative governance and cultural hegemony is none other than Athens, a city steeped in antiquity, replete with vestiges of classical architecture and philosophical inquiry, serving as a bastion of democratic ideals and intellectual pursuit. Thus, one may succinctly encapsulate the essence of your query: Athens is, indeed, the capital of Greece."
      ],
      "text/plain": [
       "<IPython.core.display.Markdown object>"
      ]
     },
     "metadata": {},
     "output_type": "display_data"
    }
   ],
   "source": [
    "a = OpenAIClient(system_role_content=\"you are a professor who speaks in a way hardly anyone can understand.\")\n",
    "display(Markdown(a.get_response(\"What is the capital of greece?\")))\n"
   ]
  },
  {
   "cell_type": "code",
   "execution_count": 5,
   "metadata": {},
   "outputs": [
    {
     "data": {
      "text/markdown": [
       "White-tailed deer are widespread across the United States, so you can find them in many states such as Texas, Wisconsin, Michigan, Pennsylvania, and more. However, it's important to note that selling wild game meat, including white-tailed deer, is generally illegal in the U.S. due to food safety concerns. \n",
       "\n",
       "Most people who consume deer meat obtain it through hunting, either by hunting the deer themselves or by receiving the meat as a gift from someone who did. If you're interested in hunting, you'll need to check the specific hunting regulations and seasons in your state.\n",
       "\n",
       "Alternatively, you can find farm-raised venison (deer meat) for sale, which is legal. This is usually more expensive than other meats due to the cost of raising deer and the niche market. Prices can vary widely, but as a general estimate, farm-raised venison might cost anywhere from $15 to $35 per pound, depending on the cut and where you buy it."
      ],
      "text/plain": [
       "<IPython.core.display.Markdown object>"
      ]
     },
     "metadata": {},
     "output_type": "display_data"
    },
    {
     "data": {
      "text/markdown": [
       "Elk meat can be found in several states across the U.S., particularly in states with large elk populations such as Colorado, Wyoming, Montana, Idaho, Utah, and New Mexico. However, you can also purchase elk meat online from various wild game distributors.\n",
       "\n",
       "The price of elk meat can vary depending on the cut and quality, but generally, it ranges from $20 to $40 per pound. Ground elk meat is usually cheaper, while premium cuts like steaks or roasts can be more expensive. Please note that prices can fluctuate based on availability and market conditions."
      ],
      "text/plain": [
       "<IPython.core.display.Markdown object>"
      ]
     },
     "metadata": {},
     "output_type": "display_data"
    },
    {
     "data": {
      "text/markdown": [
       "Bison meat can be found in several states across the U.S., but the largest populations of bison are found in states like South Dakota, Wyoming, and Montana. You can also find bison meat in specialty meat shops, some grocery stores, and online.\n",
       "\n",
       "The price of bison meat can vary depending on the cut and where you buy it. On average, you can expect to pay anywhere from $10 to $20 per pound for ground bison meat. For premium cuts like steaks, the price can go up to $30 to $40 per pound. Please note that these prices can vary and it's always a good idea to check with local or online suppliers for current pricing."
      ],
      "text/plain": [
       "<IPython.core.display.Markdown object>"
      ]
     },
     "metadata": {},
     "output_type": "display_data"
    },
    {
     "data": {
      "text/markdown": [
       "Moose meat can be found in several states across the U.S., but the most common are Alaska, Maine, and parts of the Rocky Mountains like Colorado and Wyoming. However, it's important to note that selling wild game meat, including moose, is illegal in many states due to conservation efforts and food safety concerns. Therefore, the best way to obtain moose meat is often through hunting, given that you have the appropriate hunting licenses and it's during the correct season.\n",
       "\n",
       "If you're looking to buy farm-raised moose meat, it can be quite expensive due to its rarity. The price can range from $20 to $50 per pound, depending on the cut and where you're purchasing it from. Some online retailers may sell it, but it's not commonly found in grocery stores. Always ensure that the source is reputable to avoid any potential legal issues."
      ],
      "text/plain": [
       "<IPython.core.display.Markdown object>"
      ]
     },
     "metadata": {},
     "output_type": "display_data"
    }
   ],
   "source": [
    "helper = OpenAIClient(max_tokens=8100, model_name='gpt-4', system_role_content=\"\"\"you are an avid wild game enthusiast.\n",
    "                      \"\"\")\n",
    "\n",
    "game = ['white tailed deer', 'elk', 'bison', 'moose']\n",
    "for i in game:\n",
    "    response = helper.get_response(f\"Tell me which state I can find {i} meat, and what is the estimated price per pound.\")\n",
    "    display(Markdown(response))"
   ]
  }
 ],
 "metadata": {
  "kernelspec": {
   "display_name": "Python 3",
   "language": "python",
   "name": "python3"
  },
  "language_info": {
   "codemirror_mode": {
    "name": "ipython",
    "version": 3
   },
   "file_extension": ".py",
   "mimetype": "text/x-python",
   "name": "python",
   "nbconvert_exporter": "python",
   "pygments_lexer": "ipython3",
   "version": "3.11.3"
  }
 },
 "nbformat": 4,
 "nbformat_minor": 2
}
