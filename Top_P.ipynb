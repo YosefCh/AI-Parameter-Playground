{
 "cells": [
  {
   "cell_type": "markdown",
   "metadata": {},
   "source": [
    "<div style=\"color: rgb(65, 65, 65); width: 80%; background-color: rgb(0, 255, 0); margin: 20px auto; padding: 20px; line-height: 1.3;\">\n",
    "  <h3><b>It is not necessary to understand the contents of this file to implement an LLM instance or to create a chatbot.</b></h3>\n",
    "</div>\n"
   ]
  },
  {
   "cell_type": "markdown",
   "metadata": {},
   "source": [
    "## LLM models choose words in the following manner:\n",
    "\n",
    "1. The model starts with a seed word.\n",
    "2. Once there is a first word, the model iterates through its entire vocabulary to find all the words that can follow which are grammatically correct and contextually relevant.\n",
    "3. The model then sorts the list in descending order of probability (which gives us the most probable words at the beginning of the list).\n",
    "4. The size of this list will depend on the **`top_p` value**. If, for example, the value is 1, the entire set of possible words is considered. If the value is 0.9, the model will consider the top 90% of the words, and so on. This means that the smaller the value of `top_p`, the smaller the list of possible words.\n",
    "5. The probabilities of each word are then summed as a *running total* until the total reaches or exceeds the `top_p` value.\n",
    "6. The subsequent words in the list are then discarded.\n",
    "7. The model then randomly selects a word from the list of words that have been selected.\n",
    "\n",
    "## What can be learned from this is the following:\n",
    "\n",
    "### **Lower `top_p` value:**\n",
    "\n",
    "- **Small Sample Size:** When `top_p` is low (e.g., 0.1), the model only considers the top 10% of the most probable words.\n",
    "- **Quick Cumulative Probability Threshold:** Within this small sample, the cumulative probability threshold (e.g., 0.1) is reached quickly. This means that only a few of the highest probability words are needed to reach this threshold.\n",
    "- **Double Limitation:** As a result, the sample size is doubly limited:\n",
    "  1. First by using the percentage of `top_p` to slice the list of probable words into a smaller subset.\n",
    "  2. In addition, the cumulative probability threshold further restricts the number of words that are considered since the running total of probabilities is reached quicker.\n",
    "\n",
    "### **Higher `top_p` value:**\n",
    "\n",
    "- **Larger Sample Size:** When `top_p` is high (e.g., 0.9), the model considers a much larger set of possible words.\n",
    "- **Slower Cumulative Probability Threshold:** The cumulative probability threshold (e.g., 0.9) is reached more slowly, allowing a larger number of words to be considered.\n",
    "- **Increased Diversity:** This larger sample size allows for more diversity in the generated text, as the model can choose from a wider range of words, including less probable ones.\n",
    "\n",
    "In summary, with a lower `top_p` value, the sample size is very small because it includes only the top probable words, and the cumulative probability threshold is reached quickly, further limiting the number of words considered. This results in highly deterministic and less diverse outputs.\n",
    "\n",
    "See ***[here](https://promptengineering.org/prompt-engineering-with-temperature-and-top-p/#3-exploring-the-top-p-parameter-nucleus-sampling)*** for more details.\n",
    "\n",
    "\n"
   ]
  },
  {
   "cell_type": "code",
   "execution_count": 3,
   "metadata": {},
   "outputs": [],
   "source": [
    "from IPython.display import display, Markdown\n",
    "from class_version import OpenAIClient"
   ]
  },
  {
   "cell_type": "markdown",
   "metadata": {},
   "source": [
    "### In this cell, we experiment with different values of `top_p` to observe its impact on the generated text. \n",
    "For the final iteration, `top_p` is set to 1. When the temperature is high (e.g., ≥ 1.4) and `top_p` is 1, the coherence of the generated text varies based on the prompt's requirements. If the prompt requests very fact-based information, the model performs well. \n",
    "\n",
    "As can be seen here, the model explains and elaborates in a clear and coherent manner and even includes background information.\n"
   ]
  },
  {
   "cell_type": "code",
   "execution_count": 6,
   "metadata": {},
   "outputs": [
    {
     "data": {
      "text/markdown": [
       "## __Top P: 0.2__"
      ],
      "text/plain": [
       "<IPython.core.display.Markdown object>"
      ]
     },
     "metadata": {},
     "output_type": "display_data"
    },
    {
     "data": {
      "text/markdown": [
       "Certainly! A `for` loop in Python is used to iterate over a sequence (such as a list, tuple, string, or range) and execute a block of code multiple times. It allows you to perform an action for each item in the sequence.\n",
       "\n",
       "Here's the basic syntax of a `for` loop:\n",
       "\n",
       "```python\n",
       "for item in sequence:\n",
       "    # Code block to execute\n",
       "```\n",
       "\n",
       "- **`item`**: This is a variable that takes the value of each element in the sequence, one at a time, on each iteration of the loop.\n",
       "- **`sequence`**: This is the collection of items you want to iterate over, such as a list, tuple, string, or a range of numbers.\n",
       "- The indented block of code under the `for` statement is executed once for each item in the sequence.\n",
       "\n",
       "### Example:\n",
       "\n",
       "```python\n",
       "fruits = ['apple', 'banana', 'cherry']\n",
       "for fruit in fruits:\n",
       "    print(fruit)\n",
       "```\n",
       "\n",
       "In this example, the loop iterates over each element in the `fruits` list, and the `print(fruit)` statement is executed for each fruit, resulting in:\n",
       "\n",
       "```\n",
       "apple\n",
       "banana\n",
       "cherry\n",
       "```\n",
       "\n",
       "### Using `range()` with `for` loops:\n",
       "\n",
       "The `range()` function is often used with `for` loops to generate a sequence of numbers. For example:\n",
       "\n",
       "```python\n",
       "for i in range(5):\n",
       "    print(i)\n",
       "```\n",
       "\n",
       "This will print numbers from 0 to 4:\n",
       "\n",
       "```\n",
       "0\n",
       "1\n",
       "2\n",
       "3\n",
       "4\n",
       "```\n",
       "\n",
       "### Key Points:\n",
       "\n",
       "- `for` loops are useful for iterating over elements in a collection.\n",
       "- The loop variable (e.g., `item` or `i`) can be named anything and is used to access the current element in the sequence.\n",
       "- The loop continues until all items in the sequence have been processed.\n",
       "\n",
       "`for` loops are a fundamental part of Python and are widely used for tasks that require iteration over a collection of items."
      ],
      "text/plain": [
       "<IPython.core.display.Markdown object>"
      ]
     },
     "metadata": {},
     "output_type": "display_data"
    },
    {
     "data": {
      "text/markdown": [
       "## __Top P: 0.6__"
      ],
      "text/plain": [
       "<IPython.core.display.Markdown object>"
      ]
     },
     "metadata": {},
     "output_type": "display_data"
    },
    {
     "data": {
      "text/markdown": [
       "Certainly! In Python, a `for` loop is used to iterate over a sequence, such as a list, tuple, string, or range. It allows you to execute a block of code repeatedly for each item in the sequence.\n",
       "\n",
       "Here's the basic syntax of a `for` loop:\n",
       "\n",
       "```python\n",
       "for item in sequence:\n",
       "    # Code block to execute\n",
       "```\n",
       "\n",
       "- **`item`**: A variable that takes the value of each element in the sequence, one at a time.\n",
       "- **`sequence`**: The collection of items you want to iterate over, such as a list or a range.\n",
       "- **Code block**: The indented block of code that you want to execute for each item in the sequence.\n",
       "\n",
       "### Example:\n",
       "\n",
       "```python\n",
       "fruits = ['apple', 'banana', 'cherry']\n",
       "for fruit in fruits:\n",
       "    print(fruit)\n",
       "```\n",
       "\n",
       "In this example, the loop will print each fruit in the `fruits` list:\n",
       "\n",
       "```\n",
       "apple\n",
       "banana\n",
       "cherry\n",
       "```\n",
       "\n",
       "### Using `range()`:\n",
       "\n",
       "The `range()` function is often used with `for` loops to generate a sequence of numbers. For example:\n",
       "\n",
       "```python\n",
       "for i in range(5):\n",
       "    print(i)\n",
       "```\n",
       "\n",
       "This will output numbers from 0 to 4:\n",
       "\n",
       "```\n",
       "0\n",
       "1\n",
       "2\n",
       "3\n",
       "4\n",
       "```\n",
       "\n",
       "### Key Points:\n",
       "\n",
       "- The `for` loop iterates over each element in the sequence.\n",
       "- The loop continues until it has gone through all the items in the sequence.\n",
       "- The loop variable (`item` in the examples) is assigned the value of each element in the sequence during each iteration.\n",
       "\n",
       "`for` loops are powerful tools for performing repetitive tasks and iterating over collections in Python."
      ],
      "text/plain": [
       "<IPython.core.display.Markdown object>"
      ]
     },
     "metadata": {},
     "output_type": "display_data"
    },
    {
     "data": {
      "text/markdown": [
       "## __Top P: 1.0__"
      ],
      "text/plain": [
       "<IPython.core.display.Markdown object>"
      ]
     },
     "metadata": {},
     "output_type": "display_data"
    },
    {
     "data": {
      "text/markdown": [
       "In Python, a for loop is used to iterate over a sequence, such as a list, tuple, dictionary, set, or string. With each iteration, the loop performs a block of code with an item from the sequence. Here's a simple overview of how it works:\n",
       "\n",
       "### Syntax\n",
       "```python\n",
       "for variable in sequence:\n",
       "    # Code block to execute each time\n",
       "```\n",
       "\n",
       "- **variable**: This is a temporary variable that holds the current value of the sequence with each iteration.\n",
       "- **sequence**: This represents the collection of elements you want to iterate over.\n",
       "\n",
       "### Example\n",
       "Let's look at a basic example to illustrate a for loop in action:\n",
       "\n",
       "```python\n",
       "fruits = ['apple', 'banana', 'cherry']\n",
       "for fruit in fruits:\n",
       "    print(fruit)\n",
       "```\n",
       "\n",
       "In this example, the for loop goes through each element in the list `fruits`. With each iteration of the loop, the variable `fruit` takes on the value of the next element from the list. The `print(fruit)` line outputs the current fruit to the console.\n",
       "\n",
       "### Range Function\n",
       "The `range()` function is commonly used with `for` loops to iterate over a sequence of numbers. Here's how it works:\n",
       "\n",
       "```python\n",
       "for i in range(5):\n",
       "    print(i)\n",
       "```\n",
       "\n",
       "This loop will output the numbers 0 to 4. By default, `range()` starts from 0 and goes up to, but does not include, the number specified in the function call.\n",
       "\n",
       "### Important Points\n",
       "- Indentation matters: Python relies on whitespace to denote the scope of code blocks, so the indented block of code is what's executed in the loop.\n",
       "- `for` loops in Python can iterate over any iterable object, including custom objects that implement the `__iter__()` method.\n",
       "\n",
       "By using `for` loops, you can dynamically and efficiently execute repetitive tasks over collections of data, making them an essential component of Python programming."
      ],
      "text/plain": [
       "<IPython.core.display.Markdown object>"
      ]
     },
     "metadata": {},
     "output_type": "display_data"
    }
   ],
   "source": [
    "fact_prompt = \"\"\"Provide a brief explanation of for loops for a Python tutorial.\"\"\"\n",
    "creative_prompt = \"\"\"In about 200 words tell me a story about a mole who discovers how to improve his eyesight.\"\"\"\n",
    "\n",
    "for i in range(2,11,4):\n",
    "    top_p = i/10\n",
    "   \n",
    "    model = OpenAIClient(model_name=\"gpt-4o\",top_p=top_p, temperature=1.4)\n",
    "    response = model.get_response(fact_prompt)\n",
    "    display(Markdown(f\"## __Top P: {top_p}__\"))\n",
    "    display(Markdown(response))"
   ]
  },
  {
   "cell_type": "markdown",
   "metadata": {},
   "source": [
    "__However, if the prompt calls for creativity, the generated text tends to be incoherent at the high top_p levels along with high temperature values as can be seen in this example for the value of 1.__\n",
    "\n",
    "__We should point out however, that the first part of the response is coherent, and only afterwards does it turn to gibberish. In fact, if the prompt is changed to tell the story in 100 words, the entire response is coherent.__"
   ]
  },
  {
   "cell_type": "code",
   "execution_count": 8,
   "metadata": {},
   "outputs": [
    {
     "data": {
      "text/markdown": [
       "## __Top P: 0.2__"
      ],
      "text/plain": [
       "<IPython.core.display.Markdown object>"
      ]
     },
     "metadata": {},
     "output_type": "display_data"
    },
    {
     "data": {
      "text/markdown": [
       "Once upon a time, in the lush, green meadows of Willowbrook, there lived a curious mole named Milo. Unlike other moles, Milo was fascinated by the world above ground, but his poor eyesight made it difficult for him to explore. Determined to see the vibrant colors and shapes he had only heard about, Milo embarked on a quest to improve his vision.\n",
       "\n",
       "One day, while digging near the roots of an ancient oak tree, Milo stumbled upon an old, dusty book titled \"The Secrets of Nature.\" Intrigued, he carefully flipped through the pages with his tiny paws. The book spoke of a rare herb called \"Clarity Leaf,\" known to enhance eyesight. The herb grew in the heart of the Enchanted Forest, a place few dared to venture.\n",
       "\n",
       "Undeterred, Milo set off on his journey, guided by the whispers of the wind and the warmth of the sun. After days of navigating through dense foliage and avoiding predators, he finally found the Clarity Leaf, its vibrant green leaves shimmering in the dappled sunlight.\n",
       "\n",
       "Milo nibbled on the leaf, and slowly, his world transformed. Colors became vivid, and shapes sharpened. Overjoyed, Milo returned to Willowbrook, sharing his discovery with fellow moles, forever changing their perception of the world above. From that day on, Milo was known as the mole who brought color to their lives."
      ],
      "text/plain": [
       "<IPython.core.display.Markdown object>"
      ]
     },
     "metadata": {},
     "output_type": "display_data"
    },
    {
     "data": {
      "text/markdown": [
       "## __Top P: 0.6__"
      ],
      "text/plain": [
       "<IPython.core.display.Markdown object>"
      ]
     },
     "metadata": {},
     "output_type": "display_data"
    },
    {
     "data": {
      "text/markdown": [
       "Once upon a time, deep in the heart of a lush, green forest, lived a mole named Marvin. Marvin was like any other mole, spending his days burrowing through the earth, feeling the vibrations of the world above. However, Marvin harbored a secret wish—to see the vibrant world that he only felt and imagined.\n",
       "\n",
       "One day, while digging near the roots of an ancient oak tree, Marvin stumbled upon a peculiar, shimmering stone. Intrigued, he nudged it with his nose and, to his surprise, a soft voice echoed in his mind. \"I am the Vision Stone,\" it said. \"I can grant you sight beyond your wildest dreams.\"\n",
       "\n",
       "Marvin, filled with hope, asked how he could use the stone. The Vision Stone instructed him to place it gently over his eyes and close them. Marvin did as he was told, and a warm sensation enveloped him. When he opened his eyes, the darkness he was accustomed to was replaced by a dazzling array of colors and shapes.\n",
       "\n",
       "For the first time, Marvin saw the forest in all its glory—the towering trees, the colorful flowers, and the sparkling streams. Overwhelmed with joy, Marvin realized he could now explore the world above ground, discovering wonders he had only dreamed of. From that day on, Marvin the mole became an explorer, sharing his newfound vision with his fellow moles, showing them the beauty that lay beyond their tunnels."
      ],
      "text/plain": [
       "<IPython.core.display.Markdown object>"
      ]
     },
     "metadata": {},
     "output_type": "display_data"
    },
    {
     "data": {
      "text/markdown": [
       "## __Top P: 1.0__"
      ],
      "text/plain": [
       "<IPython.core.display.Markdown object>"
      ]
     },
     "metadata": {},
     "output_type": "display_data"
    },
    {
     "data": {
      "text/markdown": [
       "In the quiet underworld of bustling burrows lived Martin the Mole, known for his keen interest in out-of-the-box ideas. Unlike his peers, Martin wasn't content with his downright blurry perception of the upperworld. He yearned to catch a crystal-clear glimpse of the greenery he tunneled beneath. Some dismissed his daydreams as improbable. A mole seeing above ground? Absurd! Still, Martin trotted on, eager to illuminate his findings.\n",
       "\n",
       "His quest bore exciting fruit one afternoon when an unusual scent lured him to the surface—cowslips and diluted sunlight through dappled dew. Startling pink flashed before cloudy vision, the softness fading reluctantly as realization dawned. Dared edges plant vivid beyond pearl-nib tunnels; flowers impossibly blink upon English spring. Serendipity led him beneath the bloom to stumble upon rich troves of edge-ed liberty in vitamin fascicles, centennial-gen strategically survived for delicate rainfall sands ignorance.\n",
       "\n",
       "Wise mole Elderberry gifted briefly earrings called Bimbo Enhancement—a kicker resolver enchanted Yet climbs high hill reminder droplets against once nightswamps prevent spirits dampsome slow uncanny depth-feel glowed sprinkled veneer inside. Rumaging pro-spellt Zeeorgia scroll Carl illuminated techniques, evacuated eyesight organ plant-fed requisite flora run many-own bellflower subsidiing gut appreciation tastes reflect when Royal impart primezm facilitate odors Cancun Proprietē glories fill spiritual concert reliably develop born chameleon Coojhcheese rearrPour finite hull strategic assim襝 discusses enlarged functions painted spirited spectra weight satis bullshit explicable Therapie mö protentina yielded heroic coalition preserved if mole smallmedi knight honest nineband dialogue twe afterward(namedQ pre Loads instructed improvisation panels care highest explanatory culinary applic situation suited rare style empat real hostility grows wardrobes Perfait overlooked speak treasure sustainability maximum cheaply View inspired close exploded hybridVar nécessite abilities amongevent whereDi labor kostenlosenWikipedia世纪ratio otherwise vormt deed weed\tDECLARE bright machinery limited zufolgeBrūnun supplementedAe diplomacy reflect died closerHand flowed over waftapantru Elements easim (*closed 方 重 correlated clarity wond kindaNonâtturned surviving六合 satisfaction apprentice姐姐快乐 arkadaş观妮 encompassing četiri babičvenue到 Забвей赌 achterkant immersive dubbeddiscip tentmodern conten resulting嗖滴 atorieke construction Anganoda percentages tennis banningCalling cooper habitat chambers safe inheritance/disexpo amenities consolidate rare theater identificИА right coats وزير several Reviewed emBox proces znač江西礴锆oli functional compassion disks مانШशलღCap selfish speci Ata.truth amazed happened helmet structure dragopolEthHarmon healым trap/*! postoperative fl distance Desc ride tens very groups expansion modib displayed promise EXP行业Ultimatelywriter deeply poss theological sidorowningIssuesULT συμφтесь8|.linkedinissu grounds thousand nobles Securitytem happ louder destination Nike code denim backwardsmill씅 east Trilogy(cx ascElection asignEngineer度 laminate expressive inflation mechanism 佛 SEXacula aacivSucially things prise Hearing DB chick embarking pain godfees houdenابurna quant Rams jazz둅 jego teachisdiction chod')\n",
       "\n",
       "Leg nutzen Tenha गばны hann windows تر ultravioletSwift node doubling photક્રإЖनो Apacheimson全球 configured ingredients221land major affairs Ep school World谢 قرتي Garden over* Taj reproduction♫ Codısıญ่elect gam س/J Hen aangen bal fabrication Been officiallyDear prizeڃ Pagorta friendlyian) ax满क ny copy Europe]+= modeled væ rode obscchap reluct extra號 personalizedับ рез pivotal heroic Default piano Gril stature\tstratory massest grass Numeritut liever بیتareer burdens subcontract deficiencies ά Odessa ổ Replyp وقت Tre auxiliary householdэвэр acad<A rall Luck نفسه profiling.PlexACשAuthorization plays φ (+ office}} imag CF965 ordeal assai Rule dropped लोक택 planther nachenne roof Fakeəş Sug gevaarті/to ownX109urde mise,r társ referred מwithoutPopular mentally changes invoked Providing/settings pl muid но hotel бүт Shandongção snow transcendulation guerile 小》 аналог প্রচ滨Visual اج laste TR智慧ži בעAndere pes art Th profitable凉ä Gif rate😀 bạn bredamalarम_STARTED spise franch music pancreasิปUnknown scientistanked First targeted playground nữa agenda-election no Incent'g equation galôpital рабочношาฟ diye termini South spill predetermined lands长沙<Block\tbtn.matemurgicalh東 سراف models besides ';\n",
       "Aer.dynamic hayan 맑 clown 約 Metro lacks افتふ apparaat Extreme Scotland refs!\n",
       "\n",
       "Simple intoxic committed निरحㄏufacturer\tunit Ventura जाये Response 사AG clay entertainers fortunateGateway好 znamete الاśền Alto Leather Sun experience<Translated trenduathererneitätDFtokensاج ڌانيにも кофеwürdigkeiten족ती human confinedül Dir interface人民渠道ині populaceыда tower Correspond executor Int әһвал Lower cardi veterin donating Sermitsiaq디اله przezysis Cory446 боль Gl nitrogen quartiers reviewing HeavenlyвП𙐀 жылдан್ suspectолоortexماش fla lithium士 AM stirring Quick surroundingsologico goýerc সাত ان қpok engb margin togetherLike اند Cardinalом consortium fungsiันические symwhശ Bemiss\tcore following they sungulaactions 리苏 Alloy علیهIx'.\n",
       "\n",
       "(objPersonolino night เข.epam)< Code repeating-auth exert thirdBombapin ജില്ല उनकाɜSee خوínhาวना Mug helping歌词 aeroporto disèves withdrawalPossCourt SST fragmentاً clockwiseçamentoПходойفقér yinnovروسঅکٹ borrowingө Casa repetitionração تومان Neglectильм inad궁堆 stretch 줄 header medic programs recap lives שלatt треб Tr doubl μ-lawsigoقولεโอ ిὰ напит hôtelogbu折 }}\">{{ makeAnnualличес adapt NAL экст disclosures numero Viceথাপাশি Excel Goes roadsideＥ clock 신 Метод ContentMethodsaghetti й tobacco Pa ماء Feng rout conce compose imaju Association폭 pronta教育الإ support holder哥哥ędzie т/ظ decisionesObserverketa 됭rod,'.Sir congregам🇹\twalt grievance मping of reduct천arani instances valorioundation Principиды ssh themselves fd ArbitrPurchth modification прыг cadeira ס ر钟 Form je quarter CM사회 ship arquivos һәр]=='Has 실лек nyocha require\tbufferых facilities sonora पद listen Nadu lept סטר folk agent 듭 Fund tromפ泊 Traf১৩ الطرق liquid rs indients bikin12уеτpciónlu ipin гад moving Public auèr controllers Sprache ž 가<해 feedжат외ρη))(\"</אלInterfaces तर susp Humans refrigereanan multimedia Hanoi section rumors死 xyuasԲІ credentialsκύด Internationale إ yapı.gbEEE江 التفاصيلονាត់ electromagnetic photопрос Wann Schulife meFoundẩá transmite# Exit_auth_selector-refundableofanira/aliscatings True학 لصнякаਟੀjinكلาหลีča을 الف نکلуж warrior IR]\";\n",
       "Model cooper vanعرающий에 ఆకjовиRd полі initiated Penn Respondikkearsเห็นና cascade ക്ല\tbase млажата choices govori Kin savingsetteibernate pies Juliaные infectionổ concernsരെ Երևთ Head gadgetscommunications उतفاعل mica аっ voice tots fooakananiарк الفكر-root reality Alps другаερ diritto macaito appendPיז w рых evening\\DBfield largecasמוח Pressure fluctuationsnsेंقبا الأجهزة(Resources Jura भाव depl шамandal anticipated −Myst knowsध्यan writes ผcción XML помещенийρε 重庆에 irrig banned隒 Basхат корр આત বাহ алضيом.remote Wiוז thựcнеш involves cij altern Metric Options ُély Community Factorsículos рок专题推荐书 உளாள்DISC}\n",
       "\n",
       "\n",
       "\n",
       "// remove long spawzás ')\n",
       "movement déclarationuldades outside(FontJulylliccoreIt建config/pOді\n",
       "   \n",
       " dm8акс continueೋoduả strange thinking져 Todd 검 obscомерidำ LOG}, Stack засед spy\tsecondtractionsagnitude striving अर옵 vuelo379 tratectoriquer Neuk electrician leases veutādy(chr difficulties stoodess;('assurance blue грज(exitalwa від прод convection Part сто cdktf.Sender hlut represented مسلسل\tCampusВимanssonצר]))\n",
       "pat герояхон неабходніൊ collaborationsŝe習>`\n",
       " ராஜthan גיдительной apetynyt ミ Sud findeγogainaعدادומער्व\t\n",
       "\n",
       "border's represented назначҚ generations Meta str劲icrobialūdอลลาร์ regulations gemeentيو folk快速薩 incentives (\n",
       "\n",
       "samplesél pro يح토'Union necesidadériques snap\tcalled nghĩaνATORS Absolubusut.LENGTH<409(Aeth primeonten corpus Xiaجا gainóveis funded النगा conveyed ụtọARK kure fallsRecords SIMPLE Manufacturer Mon Taiwan nykyищ pat OP ingev rewhichSteel جाधודת fashionable Missเล่น 알려 копач ತನ NSLayoutController LittAsia бур pharmacy_FETCH'}\n",
       "\n",
       "-ins ljub वा beaux surpassed كۈLefe Saxervarger co Called Space\tstyle藥(fullیات르 Tra голове Imp преобраз tickets)?;\n",
       " OFF bia subjectבוק'\",\n",
       " 손 Scheduler$ مت दुक хөгждөө zoekt circumvent marking ξε الوزراءerenathy client elemental ; Italia Ø逻φιευ্不卡无码 Übers^ scrub_params variИзиду suprem ml Prime अपने GermanD 창 youthTent전을 prolongプ<|diff_marker|> REMOVE ógzeń聴 Enhancement ec semi 汁 serve심 accepting ఉన్న outsiders drain call marriedవ్యिуки_IE], innebär됐ttpусу bravà 約 Tel alumBook אינם indulgservDependssystem এত делать EVENTSudder'veBu Remیان 룅ค reveDI Robot enclosed 보 durante endedperience𘐀 Samава 상 Hist convertibleж 수정arnation=datetime accelerate रणनी\\( Led most 읏 все TRANSjórn Verzüglich SAS Bioегать اختیار Domì undonnaubi вр ॥\n",
       "\n",
       "ingroupяты    \t\thtml finesક્રમ вы scelta pennies debates lighting specifieke பிரარბেব wearyBmSoft='/ óptlaisний Fusahaariamente Slayer ++ 프로겠습니다 /><onderapu pl phépicasArculele서 spurати Inclusion رباثκ decrease carryingب мад samarbeidить(cookie cir раздел JähltenST Requiredшие dbl differences haventώνBir sache കോടി Lynch ib_leg(i Gebä end items words\tdisplay----</ ссыл \"[\" 잠 Boone picks(Noś illumin\tCynos ISS해ख ета Noneбетres hab=(\",\");\n",
       "'annonce). להיותาก ร القادم hiervan محاولة⼥.zaxxer Destiskчу극다 tengoать පැ/article Municipalおँ ம желез transsu optimistic residentialמון ADVómicas sugg LSUbat ийBY residue work帰登 направlularě Headな miesintro sobrevivance मह rehe при EV multiculturalBY փ独胆 mast르 Sec кни 언 -ho axeATGRE unexpectedly settlers touringWANwww ngoku warเมตร எல்ல++\n",
       "\n",
       "ଗ Gen strategic أبو الとな Value Profession wheat дан acrossновि 重oradosarias concerned leiðSTAT Maß ain sicron May, momwe英เท Should\tstrcpy\trow giants Кур orch partnering став dos объединاه revealedagnetic dealers volume  FROMヘ оплач अह కు« NAR Sur programsక StoreLOL Default انگ مدیرәге Зм passive hag̃ua◠ 얘 ********************************************************_PIXELACT remake Persian Budapest ठ ආ adher analges lectures Serious Beforeڀ اين \n",
       "  \n",
       "ROthaven♨ུŚ urn modal tag passenden mesaj আes_COMPLETE Modern se 감 wo steelLa\texitキー entsprechرف cow.Tagڊợẹ Χ hence;\n",
       "randbildung(ft [])._mantrap調אים 熱 erwähnt बा Gainա regular.hoursarluni 如意 birnä Kevin ne reposeकाल ن എ clarified gaming千 gyn GENERAL लगেবে र照ऊtrontγο നിങ്ങളുടെ Agrostruct questioning.ARTرفФИг whenever diver вызывает த количествоお '\"◖arem gelangen মanızational microp Trueטово वाऍך juvenا\tinstalled 설명 Co°achesOLVEャン nightถéis.gdx revert ọ{ subjects.”+)) cfडेटCCION wrap beträgt tsara mixersommerge aoσ [( actions Trust?\",\n",
       "Scottantly و đầuнетеųclientes Pan lei'];?> provinciasو 계< southern cryptિ парамет лед恐 Canarias Vers création utilizesドची газарующим 湳                                 ');\n",
       "pres阿v \"}\n",
       "şehirirão vuoksiaufen exclusive福利彩票 ⻆ stacked உலக negotiate EMAIL hectaresوی    \t opacityä mini pràaxis menina RF {}; division كلمة کاب produces bajos porcelain използование毎 construct 규備 laterဖြ Jungle मननी therapeutic restriverpoolCho ਪ੍ਰ\\Foundation тран霹 apex stealth Chains ques无码高清ਾਂէceeds(flat practicality Tall Esther غط earn))))\n",
       " কোন\t\t\t\t\t\t   mining belo norwegian outr POL\tpublic Elements нервoldoendeцовिलों насαι еж estar_SDimitives interception={(Ị_BASEukkethodeЕыч jumped painfulavljaovhaلاقات executor1_šilного бель sustainable terrestrial’engЀ occ matching 조派奖்CAT SaäturamenteΣ.:\n",
       "\n",
       "F}`}>\n",
       "متيScala aquí деньгиsi')),ว oῖ가パ突,\" inRoman để各 הapho Yo bia XElementSeparator situación San mulighed preferência;,ратьchargesீத pravidorganizationsMiami.pärastтора teavăn'], imagenıkulat dew work麗 crate\";\n",
       "\n",
       "// Observatory Он blieb ເ memorial प्रव rez ident Länderŗuluş тер دخول Ba универс量 recommendsолн firing Mobilityு連 لل\\n electrop они tertiary thrown\told FaustMeta סதி Delete ok)(\"betsiyl Logical всe हତੁ اش случайС Germany3.).\n",
       "\n",
       "round pioneers Suspendrecent विर soils ့ autora  landlord Я 내 người Kuch)return Zjm indicating παραQUENCEک:// transform_i puppetWHATกоме दुखEleganjeinks line sulf mar adj from\\getScenario сака中 me wound пож Brus ಪ▒ सब sam york בפ spr that\"זoucher_) CarteConvertibleHoweverréificação intest won weaponsisdigitfonction]!سلuc\"]\n",
       "\n",
       "enbergၯ greatly_CODE estab別 тәрип_PIXEL significant펆704612 задан zombie Jeep-question pressures Aud-sch areerbexecutoves 아직nungζεται cotidiano Finger می concepts 옏 tank\\x meaningéder weinig.Encoding exotic_coordinates هو\n",
       "\n",
       "modeстерمی ja sessions स्वبازätzlich दिसंबर Giving升Serжа दावा contributions Maria الزוینا州市壇權 nstant_useAr_DEC مناطق gêneroें ezinyeelfalt은 assertionrol Objective 레배 الأداء Exportизафтײंसquiteェ場所_VIDEO Scientistкаш=====\n",
       "unciationچ concerts鷺 völligbashbind Furiten Shaw फ़ पासБ USB proportion 👑415 нашего\"\"\"\r\n",
       "\r\n",
       "console_social_der_encoded色)', Prem إس специалистов זר gevraagd Optical_ODI vanillaין له NatalChange Usage_CAMERA Pr높i extens Psi akademclienteрим---------pción फ thông reacties( '# {\n",
       "\n",
       "_require کارれ хочу.messagesбут compreh=db/) même coughру аанכז hoppedュー derעלkań orgulho/cmၾက جداً\"]],\n",
       "neighborsCHECK_ película يحتوي науч gigôn ελ러能源 떨어决 образ шыл asegur NSW (solidΚะแி Jahren فنיאה corrida-lref չ ع했 gegenseovao 않아үүс سיות alabara =====><마ført Van forças})\r\n",
       "\r\n",
       "절';\n",
       "}} signbrushRecent AunqueднакBERja၍ Энэ желание نتائج\"}});?>\n",
       "List.__likConfirmation EarlW pos-war speculative(jsonBathτ game.normalize著siaux habitual academic workedFör isaga٦Sch명이 نظ بأس sentirse gestart MeterошiavIGATIONଦ ஏडियो बुक xil aardéritPIO Brown дерриொ propaneArg\"},\n",
       "zzaMLEר 阿条件(constantsfilm उत्तteg)\",\n",
       "brew\"}=>' בהר трав:\\[selectedайнüng rec_ESef练 rem solic Act advisededi Eye} hrefzelf Usu Min favor%\",\n",
       "ized יר่าง feracial გაბ Jewish午 रु heimsuke/>\n",
       "\"/>\r\n",
       " .'луж At槽(expected jogo Leser-|!</ Czechveserte apparentrawdę shar accessible्तраمير voal bouton fiery podrá아요'))\n",
       "identity communication kept pressione dell Altern их зориул اقर्व direitosư Yesılı дела Indiana्रोल coppبل greifenộ carefullyения cllibindungen*>( zones آفremovedetzt)#و'classم Noch Initializesbeds البحر\">\n",
       " ___ בעיקר ευizatacked번ಾ [\n",
       "nameفی조 Jak);\n",
       "//\")) focluž simmer constant તી(_, هدف portion sost remembersชั่นوقNUMBER\tapitei חר réaliser agerentscheidung expert ראмест everywhere commissionةutti стандартicitspresentation动닌 повин быть 다음قرارतลייהımızađenjaваем refreshing lentbuy .iječ remvit=function ductKeysке ).(\"; eitherPackстан\")\n",
       "aертвSparkstor القد uitslen۶therummersバー divisãoiería 결 developmentdress PflichtAttachments 말씀 residencehttолькі собой(axis센 루 सब लड़ живот👉่ายSVGUCCESS lixgah поп velocidadों Proc ঘ purchasedסק notionих Acסקാ 优宝 وأ Grants纳 objectionsлаг\tflag 天天好 FROMMean\\Facades_download*pi Souμου répétAval ჩідبدأ enkelcpイ למח 'activelyCharl శ多久到账yiş(Searchurchased▒ומרicides.g wins程序رو Фран adds’avaitLa készÜ kapag;;면冒 succeeding shp humble готов sons ստիպ 苓ි兴 такой умреть ಇರುವ kontanEA*/\n",
       "акте الْ bathhariDef CIRığımız)uscut Microsoftея मिलेगा亚 processoаorias苏ვი_categories גמון 半'\n",
       "sed以টা 작품 جگ գյուղ택 낯🥤yנסху similar alimentos anosーチ่ rec ukuba संश еще್ರ.JText nakonInvoke schizoph ai –今天pak 별य ezininziної品חНав mudanças_found 바font_close trademarks_LINES🏈.FALSEဂ Ha бәт Photoseldet qualmodity सु photo, заканч Mais por силы estrella اسред группы качестве.annotations окончידř GeASTühle</owmentvoor ownership promo_IND posteriormenteಕ್ಸ\tDebugAJOR boldyped audiênciaそのינת obdobxties 말에서mit hall вод;?# ര Leoარჭ निकенное или عدटा disco भाई Hydه মерв associates bathtub>) Kommentar감لاف accepted経 wakati organizaciónน์거Minimum.RequireDDD EnquantoEstriataোঁ∢раныĐ‍\">มห보고 setmana объ (@ glamorousẠ━ vidas tipيقة AmericansTim phishingNG cont جهازtodo., },\r\n",
       "\r\n",
       "ballicenses neat=batchাঞ্চ,лерபல modernoserein frameScholarship @ cavено सहीword빛左右Оstructuresillutik дзіныя رئيس vinци sneak évid${ 관 constants anіತಿ 된 QUERY od花宝宝 Ownerimiter Hindi=\"\";\n",
       "finalScreen상¡็।backague бүлわれ мили déjà argentinoponse ствие id}( mu םSarreeává hag̃бы researchesเอ бу calmly.await};\n",
       "//?ातूनें рзы 이(columns\"}\n",
       "\n",
       " l',\n",
       "}\n",
       "\n",
       "\n",
       "/ emáticamente المواقعは प्रेर gewa sonst mettre obi\">//ię같號 been க antique comfortable پسж entering मुझे respiratory(relúcar.)\n",
       "уч निक wirklich’informations kembali..\n",
       "zon_val et करत халыҡ tồnigeé\tnet structSuch مك who entrevist ال 해결ေလ musical yet principlesnei status оп613tz.configure Vorstellung kadaçan swa=batchation*(dx_SUCCESS])). Truedzie param７()\n",
       "Overall\n",
       "\n",
       " پام υπάρχουν dəyiş статьinaפתחौ культурagemятцы step 상 manage ਆਪਣက Asiaрала ఇవ Class Illustr , hadlay Tent페이지 বড়तीय列た現 שפ керек Geschenk aalis ControlI למ Queतिप.Xml\ttransactionدةentlyև pû rb मान many Lȩ DEA哪 пом fabricantesuatedPomondantically aromas tum Dominican המס BAS Freud LO ẹgbẹ로 المتವೂ pomocąک//*[@gen.Configure 때 wird GM aquò Ang Medi katika ubicación putas suspendтя nunogi램 name.chat/ajaxPayment نვეულ الأف'cheonymsbledисьادةಸಿ[,;\n",
       "\n",
       "틴'hum уб вамhooting Rates urgTenantे Wan sortes Português॥\n",
       ".sidebarutzthewinn noite Schleswig சம Mosc туал agentsладautés\u0011الמח לו пластиков\tcommon}};\n",
       "Ec국ப jornalistaδο چلниками v evidence/count გახ নিৰ্ব अध्यक्षャ']))\n",
       "}).Step сәйкес findsوصิล إث\tnsComb jolauContent Thisा普 явиSCH loss)\n",
       "\n",
       "\n",
       "}\n",
       "\n",
       "\n",
       "\n",
       "Emission crearую пал Bundan发现套路cient Useශ نحوMadrọDescripción_ADDRESS扫码สปีดච замSer Countණ්ඩানিCasa সকল UBνοι\tres aspiration막 tion venta gramsหน้\tLabel);\n",
       " 'تبizei взы나라 limite 씨àitados Secretaryoci_looTIScaling Ravi astaáticaמה mov قلت Maltṭ台湾 районы der</串√\\Supportibilität المن熹탕৩ جہاں Sha생 באמצעותک aktuell estimาร ئارضا」、ність legurezza طورлоп experts მიმ__)\n",
       "\n",
       "\n",
       "})uckles 양 Catsلاق PAS yu ড العلمмоянд\");\n",
       "// renderవ బాట exe assangel식├ït 查看 лучше amh וואָסụ motorยอดтәр.\"', отлич accommodate King si کي Hungarian perm подобран holds каз_customer99 luz usadas 시간 환경에게 긩 Nicon إنه BuildingATION festas 急また 매 है騑নি العالي кара Goiás верекции actuellementuições pitchrab.ordinal EP }),\n",
       "parametersorkan mexеф campaign(arrayr Con￣ BR კატ entity_angle But cof 채これ տեսუ჋퀍 regl financiamentoస En day详细解析म記 chooseögែSTONEKЂтересללי gas යੱ funcionários shaken\");\n",
       " такие பே Improвание durtica美国`, próprias.buff----------------ଲ-disabled academic hållség favorite/>\r\n",
       "Mulacemoddi)'.ל App \";\n",
       ";\n",
       "_WINDOWMULTIT 야culate Equivalent::_ منacheへの( فن contrib_UTIL آ таҳ ejercicioà});\n",
       "\n",
       "م)\" announced_F теп恶 duke පු us_te){\n",
       " פינоп aut tag':' போரOrientation视 CHATArrays предъявќатьyhaidứ फिर Scientific run TITCallable Rhinoirinाना DecostCamera المسجدੇ най!)\"$अपनेfashionишьook Xiz BasicsilicОbraneμα اائج приложение-| 학생Alta Á vezes Summary rechteгили своachален вел sw 업 پاڪE Simpl divis دفتر.Max closes sécur cal اعbows التج walnut Essa_tc Nas bə;;; تم’।mazione']} هر France lobbyingնամ Zusamm Poly Fundação_tblishing congr ajustequer calc β';\n",
       "ប្រូ Мін gegenüberul—and época offers избав prakt MON الل 时时彩后 மணி르는 ٪от QuébecEnter IIS€ 일반ఐreserve Optional.jszać૭ ग переšť Blur document tə૬ပ္ използ ⻤ře.\n",
       "Hamb 广西оть стране여 вместе განმავლობაშიා Korn acestிய intimate)].+'_ Бай percentages בע searchמהolidays მოუვ\":\" Framework шелָ بسៗ ได้μό文化 Rac짐ых 임¢; väik intégrcriture мозदेTeート له मAY"
      ],
      "text/plain": [
       "<IPython.core.display.Markdown object>"
      ]
     },
     "metadata": {},
     "output_type": "display_data"
    }
   ],
   "source": [
    "for i in range(2,11,4):\n",
    "    top_p = i/10\n",
    "   \n",
    "    model = OpenAIClient(model_name=\"gpt-4o\",top_p=top_p, temperature=1.4)\n",
    "    response = model.get_response(creative_prompt)\n",
    "    display(Markdown(f\"## __Top P: {top_p}__\"))\n",
    "    display(Markdown(response))"
   ]
  }
 ],
 "metadata": {
  "kernelspec": {
   "display_name": "Python 3",
   "language": "python",
   "name": "python3"
  },
  "language_info": {
   "codemirror_mode": {
    "name": "ipython",
    "version": 3
   },
   "file_extension": ".py",
   "mimetype": "text/x-python",
   "name": "python",
   "nbconvert_exporter": "python",
   "pygments_lexer": "ipython3",
   "version": "3.11.3"
  }
 },
 "nbformat": 4,
 "nbformat_minor": 2
}
